{
 "cells": [
  {
   "cell_type": "code",
   "execution_count": 1,
   "metadata": {},
   "outputs": [
    {
     "name": "stdout",
     "output_type": "stream",
     "text": [
      "day 1 infected =       2, non-infected =    9999\n",
      "day 2 infected =       3, non-infected =    9998\n",
      "day 3 infected =       6, non-infected =    9995\n",
      "day 4 infected =       9, non-infected =    9992\n",
      "day 5 infected =      17, non-infected =    9984\n",
      "day 6 infected =      37, non-infected =    9964\n",
      "day 7 infected =      82, non-infected =    9919\n",
      "day 8 infected =     152, non-infected =    9849\n",
      "day 9 infected =     270, non-infected =    9731\n",
      "day 10 infected =     481, non-infected =    9520\n",
      "day 11 infected =     877, non-infected =    9124\n",
      "day 12 infected =    1424, non-infected =    8577\n",
      "day 13 infected =    2094, non-infected =    7907\n",
      "day 14 infected =    2807, non-infected =    7194\n"
     ]
    }
   ],
   "source": [
    "from random import choice, randint\n",
    "# count how many infected\n",
    "def count_and_print_daily_report(people):\n",
    "    infected = 0\n",
    "    non_infected = 0\n",
    "    for p in people:\n",
    "        if p.is_infected == True:\n",
    "            infected += 1\n",
    "        else:\n",
    "            non_infected += 1\n",
    "        \n",
    "    print(f'day {day} infected = {infected:7d}, non-infected = {non_infected:7d}')\n",
    "\n",
    "infection_ratio = [True]*7 + [False]*3\n",
    "class Person:\n",
    "    def __init__(self, i=False, p=False):\n",
    "        self.is_infected = i\n",
    "        self.protected = p\n",
    "    # what will happened to \"other\" person if \"self\" touched him?        \n",
    "    def touch(self, other):\n",
    "        if self.is_infected:\n",
    "            #both protected\n",
    "            if self.protected and other.protected:                \n",
    "                self.is_infected = True\n",
    "                other.is_infected = False\n",
    "            \n",
    "            # both are not protected\n",
    "            elif (not self.protected) and (not other.protected): \n",
    "                self.is_infected = True\n",
    "                other.is_infected = True\n",
    "            \n",
    "            # 1 of them is not protected\n",
    "            else: \n",
    "                self.is_infected = True                \n",
    "                other.is_infected = choice( infection_ratio )\n",
    "        \n",
    "        # self is not infected\n",
    "        else:\n",
    "            pass\n",
    "                \n",
    "    def __str__(self):\n",
    "        return f\"{self.is_infected}\"\n",
    "    \n",
    "jeddah_people = []\n",
    "p = Person(True, False)\n",
    "jeddah_people.append(p)\n",
    "# create 1K people\n",
    "number_of_people = 10000\n",
    "protection_ratio = [True]*80 + [False]*20\n",
    "for i in range(number_of_people):    \n",
    "    p = Person( )\n",
    "    p.is_infected =  False\n",
    "    p.protected = choice(protection_ratio)\n",
    "    jeddah_people.append(p)\n",
    "    \n",
    "data = []\n",
    "\n",
    "for day in range(1,15):\n",
    "    for person_index in range(number_of_people):\n",
    "        for i in range(1):            \n",
    "            p1 = jeddah_people[ person_index ]\n",
    "            ri = randint(0,number_of_people-1)\n",
    "            p2 = jeddah_people[ ri ]\n",
    "            p1.touch( p2 )\n",
    "            p2.touch( p1 )\n",
    "    count_and_print_daily_report(jeddah_people)\n",
    "    data.append(jeddah_people)"
   ]
  },
  {
   "cell_type": "code",
   "execution_count": 116,
   "metadata": {},
   "outputs": [
    {
     "data": {
      "text/html": [
       "<div>\n",
       "<style scoped>\n",
       "    .dataframe tbody tr th:only-of-type {\n",
       "        vertical-align: middle;\n",
       "    }\n",
       "\n",
       "    .dataframe tbody tr th {\n",
       "        vertical-align: top;\n",
       "    }\n",
       "\n",
       "    .dataframe thead th {\n",
       "        text-align: right;\n",
       "    }\n",
       "</style>\n",
       "<table border=\"1\" class=\"dataframe\">\n",
       "  <thead>\n",
       "    <tr style=\"text-align: right;\">\n",
       "      <th></th>\n",
       "      <th>Day</th>\n",
       "      <th>infected</th>\n",
       "      <th>non-infected</th>\n",
       "    </tr>\n",
       "  </thead>\n",
       "  <tbody>\n",
       "    <tr>\n",
       "      <th>0</th>\n",
       "      <td>1</td>\n",
       "      <td>4</td>\n",
       "      <td>9997</td>\n",
       "    </tr>\n",
       "    <tr>\n",
       "      <th>1</th>\n",
       "      <td>2</td>\n",
       "      <td>5</td>\n",
       "      <td>9996</td>\n",
       "    </tr>\n",
       "    <tr>\n",
       "      <th>2</th>\n",
       "      <td>3</td>\n",
       "      <td>10</td>\n",
       "      <td>9991</td>\n",
       "    </tr>\n",
       "    <tr>\n",
       "      <th>3</th>\n",
       "      <td>4</td>\n",
       "      <td>15</td>\n",
       "      <td>9986</td>\n",
       "    </tr>\n",
       "    <tr>\n",
       "      <th>4</th>\n",
       "      <td>5</td>\n",
       "      <td>28</td>\n",
       "      <td>9973</td>\n",
       "    </tr>\n",
       "  </tbody>\n",
       "</table>\n",
       "</div>"
      ],
      "text/plain": [
       "   Day  infected  non-infected\n",
       "0    1         4          9997\n",
       "1    2         5          9996\n",
       "2    3        10          9991\n",
       "3    4        15          9986\n",
       "4    5        28          9973"
      ]
     },
     "execution_count": 116,
     "metadata": {},
     "output_type": "execute_result"
    }
   ],
   "source": [
    "import pandas as pd\n",
    "df = pd.DataFrame({'Day': [1, 2, 3 , 4, 5 , 6, 7, 8 , 9 ,10 , 11, 12 ,13 ,14],\n",
    "\n",
    "                   'infected': [4, 5, 10 , 15, 28, 59, 124, 231, 437, 733, 1213, 1855, 2567, 3188],\n",
    "\n",
    "                   'non-infected': [9997, 9996, 9991, 9986, 9973, 9943, 9887, 9770, 9564, 9268, 8788, 8146, 7434, 6813]})\n",
    "\n",
    "df.to_csv(index=True)\n",
    "\n",
    "df.head()"
   ]
  },
  {
   "cell_type": "code",
   "execution_count": 117,
   "metadata": {},
   "outputs": [
    {
     "data": {
      "image/png": "[encoded data removed]",
      "text/plain": [
       "<Figure size 841.68x595.44 with 1 Axes>"
      ]
     },
     "metadata": {
      "needs_background": "light"
     },
     "output_type": "display_data"
    }
   ],
   "source": [
    "import numpy as np\n",
    "import pandas as pd\n",
    "import matplotlib.pyplot as plt\n",
    "import seaborn as sb\n",
    "\n",
    "%matplotlib inline\n",
    "\n",
    "start_st = df.infected\n",
    "base_color = sb.color_palette()[0]\n",
    "plt.figure(figsize=[ 11.69, 8.27])\n",
    "ax = sb.barplot(data = df, x = df.infected.index, y = df.infected, color = base_color)\n",
    "ax.set_title('Covid-19 Simulation')\n",
    "plt.ylabel('Number of Cases')\n",
    "plt.xlabel('New cases per day')\n",
    "plt.show()"
   ]
  },
  {
   "cell_type": "code",
   "execution_count": 239,
   "metadata": {},
   "outputs": [],
   "source": [
    "import pandas as pd\n",
    "#www.kaggle.com/sudalairajkumar/covid19-in-italy#covid19_italy_province.csv\n",
    "italy = pd.read_csv('covid19_italy_province.csv')\n",
    "italy[\"Date\"]= pd.to_datetime(italy[\"Date\"]) "
   ]
  },
  {
   "cell_type": "code",
   "execution_count": 119,
   "metadata": {},
   "outputs": [
    {
     "data": {
      "text/html": [
       "<div>\n",
       "<style scoped>\n",
       "    .dataframe tbody tr th:only-of-type {\n",
       "        vertical-align: middle;\n",
       "    }\n",
       "\n",
       "    .dataframe tbody tr th {\n",
       "        vertical-align: top;\n",
       "    }\n",
       "\n",
       "    .dataframe thead th {\n",
       "        text-align: right;\n",
       "    }\n",
       "</style>\n",
       "<table border=\"1\" class=\"dataframe\">\n",
       "  <thead>\n",
       "    <tr style=\"text-align: right;\">\n",
       "      <th></th>\n",
       "      <th>SNo</th>\n",
       "      <th>RegionCode</th>\n",
       "      <th>ProvinceCode</th>\n",
       "      <th>Latitude</th>\n",
       "      <th>Longitude</th>\n",
       "      <th>TotalPositiveCases</th>\n",
       "    </tr>\n",
       "  </thead>\n",
       "  <tbody>\n",
       "    <tr>\n",
       "      <th>count</th>\n",
       "      <td>4096.00000</td>\n",
       "      <td>4096.000000</td>\n",
       "      <td>4096.000000</td>\n",
       "      <td>4096.000000</td>\n",
       "      <td>4096.000000</td>\n",
       "      <td>4096.000000</td>\n",
       "    </tr>\n",
       "    <tr>\n",
       "      <th>mean</th>\n",
       "      <td>2047.50000</td>\n",
       "      <td>10.140625</td>\n",
       "      <td>207.523438</td>\n",
       "      <td>35.868843</td>\n",
       "      <td>10.112000</td>\n",
       "      <td>177.958984</td>\n",
       "    </tr>\n",
       "    <tr>\n",
       "      <th>std</th>\n",
       "      <td>1182.55768</td>\n",
       "      <td>5.915130</td>\n",
       "      <td>347.425441</td>\n",
       "      <td>16.073486</td>\n",
       "      <td>5.098215</td>\n",
       "      <td>562.747387</td>\n",
       "    </tr>\n",
       "    <tr>\n",
       "      <th>min</th>\n",
       "      <td>0.00000</td>\n",
       "      <td>1.000000</td>\n",
       "      <td>1.000000</td>\n",
       "      <td>0.000000</td>\n",
       "      <td>0.000000</td>\n",
       "      <td>0.000000</td>\n",
       "    </tr>\n",
       "    <tr>\n",
       "      <th>25%</th>\n",
       "      <td>1023.75000</td>\n",
       "      <td>5.000000</td>\n",
       "      <td>32.750000</td>\n",
       "      <td>38.848542</td>\n",
       "      <td>8.583304</td>\n",
       "      <td>0.000000</td>\n",
       "    </tr>\n",
       "    <tr>\n",
       "      <th>50%</th>\n",
       "      <td>2047.50000</td>\n",
       "      <td>9.000000</td>\n",
       "      <td>64.500000</td>\n",
       "      <td>42.609815</td>\n",
       "      <td>11.188560</td>\n",
       "      <td>13.000000</td>\n",
       "    </tr>\n",
       "    <tr>\n",
       "      <th>75%</th>\n",
       "      <td>3071.25000</td>\n",
       "      <td>15.250000</td>\n",
       "      <td>96.250000</td>\n",
       "      <td>44.947714</td>\n",
       "      <td>13.593962</td>\n",
       "      <td>109.000000</td>\n",
       "    </tr>\n",
       "    <tr>\n",
       "      <th>max</th>\n",
       "      <td>4095.00000</td>\n",
       "      <td>20.000000</td>\n",
       "      <td>999.000000</td>\n",
       "      <td>46.499335</td>\n",
       "      <td>18.171897</td>\n",
       "      <td>7458.000000</td>\n",
       "    </tr>\n",
       "  </tbody>\n",
       "</table>\n",
       "</div>"
      ],
      "text/plain": [
       "              SNo   RegionCode  ProvinceCode     Latitude    Longitude  \\\n",
       "count  4096.00000  4096.000000   4096.000000  4096.000000  4096.000000   \n",
       "mean   2047.50000    10.140625    207.523438    35.868843    10.112000   \n",
       "std    1182.55768     5.915130    347.425441    16.073486     5.098215   \n",
       "min       0.00000     1.000000      1.000000     0.000000     0.000000   \n",
       "25%    1023.75000     5.000000     32.750000    38.848542     8.583304   \n",
       "50%    2047.50000     9.000000     64.500000    42.609815    11.188560   \n",
       "75%    3071.25000    15.250000     96.250000    44.947714    13.593962   \n",
       "max    4095.00000    20.000000    999.000000    46.499335    18.171897   \n",
       "\n",
       "       TotalPositiveCases  \n",
       "count         4096.000000  \n",
       "mean           177.958984  \n",
       "std            562.747387  \n",
       "min              0.000000  \n",
       "25%              0.000000  \n",
       "50%             13.000000  \n",
       "75%            109.000000  \n",
       "max           7458.000000  "
      ]
     },
     "execution_count": 119,
     "metadata": {},
     "output_type": "execute_result"
    }
   ],
   "source": [
    "italy.describe()"
   ]
  },
  {
   "cell_type": "code",
   "execution_count": 189,
   "metadata": {},
   "outputs": [],
   "source": [
    "\n",
    "\n",
    "cases = italy[ (italy['TotalPositiveCases'] >= 1)]\n",
    "cases = cases.drop(['ProvinceCode','ProvinceName', 'ProvinceAbbreviation', 'Latitude', 'Longitude' ], axis=1)\n",
    " \n"
   ]
  },
  {
   "cell_type": "code",
   "execution_count": 190,
   "metadata": {},
   "outputs": [],
   "source": [
    "cases['RegionName'] = cases['RegionName'].replace({\"Valle d'Aosta\":'Valle', 'Friuli Venezia Giulia':'Giulia',\n",
    "                                           'Emilia Romagna': 'Romagna', 'P.A. Bolzano': 'Bolzano'})"
   ]
  },
  {
   "cell_type": "code",
   "execution_count": 191,
   "metadata": {},
   "outputs": [
    {
     "data": {
      "image/png": "[encoded data removed]",
      "text/plain": [
       "<Figure size 1440x576 with 1 Axes>"
      ]
     },
     "metadata": {
      "needs_background": "light"
     },
     "output_type": "display_data"
    }
   ],
   "source": [
    "plt.figure(figsize=[ 20, 8])\n",
    "base_color = sb.color_palette()[0]\n",
    "ax = sb.barplot(data = cases, x = 'RegionName', y = 'TotalPositiveCases', color = base_color);\n",
    "ax.set(xlabel='Region', ylabel='num of cases');\n",
    "ax.set_title('Italy Regions and Covid19');"
   ]
  },
  {
   "cell_type": "code",
   "execution_count": 241,
   "metadata": {},
   "outputs": [
    {
     "data": {
      "image/png": "[encoded data removed]",
      "text/plain": [
       "<Figure size 841.68x595.44 with 1 Axes>"
      ]
     },
     "metadata": {
      "needs_background": "light"
     },
     "output_type": "display_data"
    }
   ],
   "source": [
    "plt.figure(figsize=[ 11.69, 8.27])\n",
    "numz= cases.groupby(\"Date\")\n",
    "num = cases.groupby(\"Date\")[\"TotalPositiveCases\"].sum().head(15).sort_index().plot.line()\n",
    "plt.ylabel('Number of Cases')\n",
    "plt.xlabel('New cases per day in Italy')\n",
    "plt.show()"
   ]
  },
  {
   "cell_type": "code",
   "execution_count": 209,
   "metadata": {},
   "outputs": [
    {
     "data": {
      "text/plain": [
       "<Figure size 1440x1440 with 0 Axes>"
      ]
     },
     "metadata": {},
     "output_type": "display_data"
    },
    {
     "data": {
      "image/png": "[encoded data removed]",
      "text/plain": [
       "<Figure size 432x288 with 1 Axes>"
      ]
     },
     "metadata": {
      "needs_background": "light"
     },
     "output_type": "display_data"
    }
   ],
   "source": [
    "plt.figure(figsize=[ 20, 20])\n",
    "df.plot(x='Day', y='infected')\n",
    "plt.ylabel('Number of Cases')\n",
    "plt.xlabel('New cases per day')\n",
    "plt.show()"
   ]
  },
  {
   "cell_type": "code",
   "execution_count": 238,
   "metadata": {},
   "outputs": [
    {
     "data": {
      "image/png": "[encoded data removed]",
      "text/plain": [
       "<Figure size 432x288 with 1 Axes>"
      ]
     },
     "metadata": {
      "needs_background": "light"
     },
     "output_type": "display_data"
    }
   ],
   "source": [
    "df4 = pd.DataFrame({\n",
    "\n",
    "   'Simulation': [4, 5, 10 , 15, 28, 59, 124, 231, 437, 733, 1213, 1855, 2567, 3188],\n",
    "\n",
    "   'Italy': [322,400, 650, 888, 1128, 1694, 2036, 2502, 3089, 3858, 4636,5883, 7375, 9172]\n",
    "\n",
    "   }, index=[1, 2, 3, 4, 5, 6, 7, 8, 9, 10, 11, 12 ,13 ,14])\n",
    "\n",
    "lines = df4.plot.line()"
   ]
  },
  {
   "cell_type": "code",
   "execution_count": 240,
   "metadata": {},
   "outputs": [
    {
     "data": {
      "text/plain": [
       "Date\n",
       "2020-02-25 18:00:00      322\n",
       "2020-02-26 18:00:00      400\n",
       "2020-02-27 18:00:00      650\n",
       "2020-02-28 18:00:00      888\n",
       "2020-02-29 17:00:00     1128\n",
       "2020-03-01 17:00:00     1694\n",
       "2020-03-02 17:00:00     2036\n",
       "2020-03-03 17:00:00     2502\n",
       "2020-03-04 17:00:00     3089\n",
       "2020-03-05 17:00:00     3858\n",
       "2020-03-06 18:00:00     4636\n",
       "2020-03-07 18:00:00     5883\n",
       "2020-03-08 18:00:00     7375\n",
       "2020-03-09 18:00:00     9172\n",
       "2020-03-10 18:00:00    10149\n",
       "2020-03-11 17:00:00    12462\n",
       "2020-03-12 17:00:00    15113\n",
       "2020-03-13 17:00:00    17660\n",
       "2020-03-14 17:00:00    21157\n",
       "2020-03-15 17:00:00    24747\n",
       "2020-03-16 17:00:00    27980\n",
       "2020-03-17 17:00:00    31506\n",
       "2020-03-18 17:00:00    35713\n",
       "2020-03-19 17:00:00    41035\n",
       "2020-03-20 17:00:00    47021\n",
       "2020-03-21 17:00:00    53578\n",
       "2020-03-22 17:00:00    59138\n",
       "2020-03-23 17:00:00    63927\n",
       "2020-03-24 17:00:00    69176\n",
       "2020-03-25 17:00:00    74386\n",
       "2020-03-26 17:00:00    80539\n",
       "Name: TotalPositiveCases, dtype: int64"
      ]
     },
     "execution_count": 240,
     "metadata": {},
     "output_type": "execute_result"
    }
   ],
   "source": [
    "\n",
    "numz = cases.groupby(\"Date\")[\"TotalPositiveCases\"].sum()\n",
    "numz"
   ]
  },
  {
   "cell_type": "code",
   "execution_count": null,
   "metadata": {},
   "outputs": [],
   "source": []
  }
 ],
 "metadata": {
  "kernelspec": {
   "display_name": "Python 3",
   "language": "python",
   "name": "python3"
  },
  "language_info": {
   "codemirror_mode": {
    "name": "ipython",
    "version": 3
   },
   "file_extension": ".py",
   "mimetype": "text/x-python",
   "name": "python",
   "nbconvert_exporter": "python",
   "pygments_lexer": "ipython3",
   "version": "3.7.3"
  }
 },
 "nbformat": 4,
 "nbformat_minor": 2
}
